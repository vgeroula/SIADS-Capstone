{
 "cells": [
  {
   "cell_type": "markdown",
   "id": "28e17f7a",
   "metadata": {},
   "source": [
    "# Project name: AI-driven demand forecasting "
   ]
  },
  {
   "cell_type": "markdown",
   "id": "641a9900",
   "metadata": {},
   "source": [
    "## [Section1]"
   ]
  },
  {
   "cell_type": "markdown",
   "id": "b1b01543",
   "metadata": {},
   "source": [
    "## Student names (listed alphabetically):\n",
    "\n",
    "- Vasileios Geroulas (vgeroula)\n",
    "- Vasiliki Tsianika (vtsian)"
   ]
  },
  {
   "cell_type": "markdown",
   "id": "7bf61aca",
   "metadata": {},
   "source": [
    "## Main Sections of this Project\n",
    "There are 2 main sections comprising this project, each with a separate Notebook:\n",
    "1. __Data Preparation and Feature Creation.__ In this section we focus on data import, data manipulation and feature engineering. \n",
    "2. __Analytics and ML Modeling.__ In this section we focus on analyzing the features extracted in Section 1, to provide forecasts of demand. "
   ]
  },
  {
   "cell_type": "markdown",
   "id": "7a50779e",
   "metadata": {},
   "source": [
    "## Section 1: Data Preparation and Feature Creation\n",
    "\n",
    "In this section we will import the data, perform any data manipulation needed, and we will extract features that will be used in building the time series analytics and ML supervised (regression) models in the Section 2. Comments are added throughout the notebook to explain the process."
   ]
  },
  {
   "cell_type": "markdown",
   "id": "d265734f",
   "metadata": {},
   "source": [
    "### Notes for the Script to Run\n",
    "- The data files (CSV) are expected to be stored in a folder called \"__Data__\", which resides in the same directory as the Python script."
   ]
  },
  {
   "cell_type": "markdown",
   "id": "ec3221f8",
   "metadata": {},
   "source": [
    "### Python Modules\n",
    "\n",
    "Import all the required Python modules."
   ]
  },
  {
   "cell_type": "code",
   "execution_count": 1,
   "id": "dd0b0308",
   "metadata": {},
   "outputs": [],
   "source": [
    "import pandas as pd\n",
    "from sklearn.preprocessing import LabelEncoder\n",
    "from matplotlib import pyplot as plt"
   ]
  },
  {
   "cell_type": "markdown",
   "id": "fc2e9949",
   "metadata": {},
   "source": [
    "### Load Data\n",
    "\n",
    "Load the data from the downloaded CSV files into Pandas Dataframes.\n",
    "The CSV files can be downloaded from the link below:\n",
    "https://www.kaggle.com/competitions/competitive-data-science-predict-future-sales/data"
   ]
  },
  {
   "cell_type": "code",
   "execution_count": 2,
   "id": "84e2eae5",
   "metadata": {},
   "outputs": [],
   "source": [
    "# Load CSV data files\n",
    "\n",
    "item_cats  = pd.read_csv(r'./Data/item_categories.csv')\n",
    "items = pd.read_csv(r'./Data/items.csv')\n",
    "shops = pd.read_csv(r'./Data/shops.csv')\n",
    "sales_train = pd.read_csv(r'./Data/sales_train.csv')\n",
    "sales_test  = pd.read_csv(r'./Data/test.csv')"
   ]
  },
  {
   "cell_type": "markdown",
   "id": "925a6713",
   "metadata": {},
   "source": [
    "Get a glimpse of the data, by printing the first 2 rows of each table."
   ]
  },
  {
   "cell_type": "code",
   "execution_count": 3,
   "id": "b81ac855",
   "metadata": {},
   "outputs": [
    {
     "data": {
      "text/html": [
       "<div>\n",
       "<style scoped>\n",
       "    .dataframe tbody tr th:only-of-type {\n",
       "        vertical-align: middle;\n",
       "    }\n",
       "\n",
       "    .dataframe tbody tr th {\n",
       "        vertical-align: top;\n",
       "    }\n",
       "\n",
       "    .dataframe thead th {\n",
       "        text-align: right;\n",
       "    }\n",
       "</style>\n",
       "<table border=\"1\" class=\"dataframe\">\n",
       "  <thead>\n",
       "    <tr style=\"text-align: right;\">\n",
       "      <th></th>\n",
       "      <th>item_category_name</th>\n",
       "      <th>item_category_id</th>\n",
       "    </tr>\n",
       "  </thead>\n",
       "  <tbody>\n",
       "    <tr>\n",
       "      <th>0</th>\n",
       "      <td>PC - Гарнитуры/Наушники</td>\n",
       "      <td>0</td>\n",
       "    </tr>\n",
       "    <tr>\n",
       "      <th>1</th>\n",
       "      <td>Аксессуары - PS2</td>\n",
       "      <td>1</td>\n",
       "    </tr>\n",
       "  </tbody>\n",
       "</table>\n",
       "</div>"
      ],
      "text/plain": [
       "        item_category_name  item_category_id\n",
       "0  PC - Гарнитуры/Наушники                 0\n",
       "1         Аксессуары - PS2                 1"
      ]
     },
     "execution_count": 3,
     "metadata": {},
     "output_type": "execute_result"
    }
   ],
   "source": [
    "item_cats.head(2)"
   ]
  },
  {
   "cell_type": "code",
   "execution_count": 4,
   "id": "a772ec5e",
   "metadata": {},
   "outputs": [
    {
     "data": {
      "text/html": [
       "<div>\n",
       "<style scoped>\n",
       "    .dataframe tbody tr th:only-of-type {\n",
       "        vertical-align: middle;\n",
       "    }\n",
       "\n",
       "    .dataframe tbody tr th {\n",
       "        vertical-align: top;\n",
       "    }\n",
       "\n",
       "    .dataframe thead th {\n",
       "        text-align: right;\n",
       "    }\n",
       "</style>\n",
       "<table border=\"1\" class=\"dataframe\">\n",
       "  <thead>\n",
       "    <tr style=\"text-align: right;\">\n",
       "      <th></th>\n",
       "      <th>item_name</th>\n",
       "      <th>item_id</th>\n",
       "      <th>item_category_id</th>\n",
       "    </tr>\n",
       "  </thead>\n",
       "  <tbody>\n",
       "    <tr>\n",
       "      <th>0</th>\n",
       "      <td>! ВО ВЛАСТИ НАВАЖДЕНИЯ (ПЛАСТ.)         D</td>\n",
       "      <td>0</td>\n",
       "      <td>40</td>\n",
       "    </tr>\n",
       "    <tr>\n",
       "      <th>1</th>\n",
       "      <td>!ABBYY FineReader 12 Professional Edition Full...</td>\n",
       "      <td>1</td>\n",
       "      <td>76</td>\n",
       "    </tr>\n",
       "  </tbody>\n",
       "</table>\n",
       "</div>"
      ],
      "text/plain": [
       "                                           item_name  item_id  \\\n",
       "0          ! ВО ВЛАСТИ НАВАЖДЕНИЯ (ПЛАСТ.)         D        0   \n",
       "1  !ABBYY FineReader 12 Professional Edition Full...        1   \n",
       "\n",
       "   item_category_id  \n",
       "0                40  \n",
       "1                76  "
      ]
     },
     "execution_count": 4,
     "metadata": {},
     "output_type": "execute_result"
    }
   ],
   "source": [
    "items.head(2)"
   ]
  },
  {
   "cell_type": "code",
   "execution_count": 5,
   "id": "6159d395",
   "metadata": {},
   "outputs": [
    {
     "data": {
      "text/html": [
       "<div>\n",
       "<style scoped>\n",
       "    .dataframe tbody tr th:only-of-type {\n",
       "        vertical-align: middle;\n",
       "    }\n",
       "\n",
       "    .dataframe tbody tr th {\n",
       "        vertical-align: top;\n",
       "    }\n",
       "\n",
       "    .dataframe thead th {\n",
       "        text-align: right;\n",
       "    }\n",
       "</style>\n",
       "<table border=\"1\" class=\"dataframe\">\n",
       "  <thead>\n",
       "    <tr style=\"text-align: right;\">\n",
       "      <th></th>\n",
       "      <th>shop_name</th>\n",
       "      <th>shop_id</th>\n",
       "    </tr>\n",
       "  </thead>\n",
       "  <tbody>\n",
       "    <tr>\n",
       "      <th>0</th>\n",
       "      <td>!Якутск Орджоникидзе, 56 фран</td>\n",
       "      <td>0</td>\n",
       "    </tr>\n",
       "    <tr>\n",
       "      <th>1</th>\n",
       "      <td>!Якутск ТЦ \"Центральный\" фран</td>\n",
       "      <td>1</td>\n",
       "    </tr>\n",
       "  </tbody>\n",
       "</table>\n",
       "</div>"
      ],
      "text/plain": [
       "                       shop_name  shop_id\n",
       "0  !Якутск Орджоникидзе, 56 фран        0\n",
       "1  !Якутск ТЦ \"Центральный\" фран        1"
      ]
     },
     "execution_count": 5,
     "metadata": {},
     "output_type": "execute_result"
    }
   ],
   "source": [
    "shops.head(2)"
   ]
  },
  {
   "cell_type": "code",
   "execution_count": 6,
   "id": "f09454e2",
   "metadata": {},
   "outputs": [
    {
     "data": {
      "text/html": [
       "<div>\n",
       "<style scoped>\n",
       "    .dataframe tbody tr th:only-of-type {\n",
       "        vertical-align: middle;\n",
       "    }\n",
       "\n",
       "    .dataframe tbody tr th {\n",
       "        vertical-align: top;\n",
       "    }\n",
       "\n",
       "    .dataframe thead th {\n",
       "        text-align: right;\n",
       "    }\n",
       "</style>\n",
       "<table border=\"1\" class=\"dataframe\">\n",
       "  <thead>\n",
       "    <tr style=\"text-align: right;\">\n",
       "      <th></th>\n",
       "      <th>date</th>\n",
       "      <th>date_block_num</th>\n",
       "      <th>shop_id</th>\n",
       "      <th>item_id</th>\n",
       "      <th>item_price</th>\n",
       "      <th>item_cnt_day</th>\n",
       "    </tr>\n",
       "  </thead>\n",
       "  <tbody>\n",
       "    <tr>\n",
       "      <th>0</th>\n",
       "      <td>02.01.2013</td>\n",
       "      <td>0</td>\n",
       "      <td>59</td>\n",
       "      <td>22154</td>\n",
       "      <td>999.0</td>\n",
       "      <td>1.0</td>\n",
       "    </tr>\n",
       "    <tr>\n",
       "      <th>1</th>\n",
       "      <td>03.01.2013</td>\n",
       "      <td>0</td>\n",
       "      <td>25</td>\n",
       "      <td>2552</td>\n",
       "      <td>899.0</td>\n",
       "      <td>1.0</td>\n",
       "    </tr>\n",
       "  </tbody>\n",
       "</table>\n",
       "</div>"
      ],
      "text/plain": [
       "         date  date_block_num  shop_id  item_id  item_price  item_cnt_day\n",
       "0  02.01.2013               0       59    22154       999.0           1.0\n",
       "1  03.01.2013               0       25     2552       899.0           1.0"
      ]
     },
     "execution_count": 6,
     "metadata": {},
     "output_type": "execute_result"
    }
   ],
   "source": [
    "sales_train.head(2)"
   ]
  },
  {
   "cell_type": "code",
   "execution_count": 7,
   "id": "33b56e91",
   "metadata": {},
   "outputs": [
    {
     "data": {
      "text/html": [
       "<div>\n",
       "<style scoped>\n",
       "    .dataframe tbody tr th:only-of-type {\n",
       "        vertical-align: middle;\n",
       "    }\n",
       "\n",
       "    .dataframe tbody tr th {\n",
       "        vertical-align: top;\n",
       "    }\n",
       "\n",
       "    .dataframe thead th {\n",
       "        text-align: right;\n",
       "    }\n",
       "</style>\n",
       "<table border=\"1\" class=\"dataframe\">\n",
       "  <thead>\n",
       "    <tr style=\"text-align: right;\">\n",
       "      <th></th>\n",
       "      <th>ID</th>\n",
       "      <th>shop_id</th>\n",
       "      <th>item_id</th>\n",
       "    </tr>\n",
       "  </thead>\n",
       "  <tbody>\n",
       "    <tr>\n",
       "      <th>0</th>\n",
       "      <td>0</td>\n",
       "      <td>5</td>\n",
       "      <td>5037</td>\n",
       "    </tr>\n",
       "    <tr>\n",
       "      <th>1</th>\n",
       "      <td>1</td>\n",
       "      <td>5</td>\n",
       "      <td>5320</td>\n",
       "    </tr>\n",
       "  </tbody>\n",
       "</table>\n",
       "</div>"
      ],
      "text/plain": [
       "   ID  shop_id  item_id\n",
       "0   0        5     5037\n",
       "1   1        5     5320"
      ]
     },
     "execution_count": 7,
     "metadata": {},
     "output_type": "execute_result"
    }
   ],
   "source": [
    "sales_test.head(2)"
   ]
  },
  {
   "cell_type": "markdown",
   "id": "28b96640",
   "metadata": {},
   "source": [
    "### Data Preparation 1 - Text Data"
   ]
  },
  {
   "cell_type": "markdown",
   "id": "466d2551",
   "metadata": {},
   "source": [
    "The \"__item_name__\", \"__shop_name__\" and \"__item_category_name__\" features of the data are texts written based on the Cyrillic alphabet. These texts are not crucial for our analysis, as we will be using the respective id's instead. However, we will replace them with dummy but readable data, so the text in the visualizations we will create later is readable by the users.\n",
    "\n",
    "Moreover, based on the data description we found online, we should consider the following:\n",
    "- The \"__shop_name__\" always starts with the __city name__. It is followed by a space \" \".\n",
    "- The \"__item_category_name__\" always starts with a __type description__ . It is followed by a dash \"-\"."
   ]
  },
  {
   "cell_type": "code",
   "execution_count": 8,
   "id": "be134771",
   "metadata": {},
   "outputs": [],
   "source": [
    "# Extract the city from \"shop_name\". Then create a unique \"city_id\" for each city.\n",
    "shops['city_name'] = shops['shop_name'].str.split(' ').map(lambda x: x[0])\n",
    "shops['city_id'] = LabelEncoder().fit_transform(shops['city_name'])\n",
    "shops.head()\n",
    "\n",
    "# Extract the type from \"item_category_name\". Then create a unique \"type_id\" for each category.\n",
    "item_cats['type_name'] = item_cats['item_category_name'].str.split('-').map(lambda x: x[0].strip())\n",
    "item_cats['type_id'] = LabelEncoder().fit_transform(item_cats['type_name'])\n",
    "\n",
    "# Replace remaining text with dummy names\n",
    "for i in range(len(items)):\n",
    "    items.iloc[i,0] = 'Item ' + str(i)\n",
    "\n",
    "for i in range(len(shops)):\n",
    "    shops.iloc[i,0] = 'Shop ' + str(i)\n",
    "shops['city_name'] = shops.city_id.map(lambda x: 'City '+str(x))\n",
    "\n",
    "for i in range(len(item_cats)):\n",
    "    item_cats.iloc[i,0] = 'Item Category ' + str(i)\n",
    "item_cats['type_name'] = item_cats.type_id.map(lambda x: 'Type '+str(x))"
   ]
  },
  {
   "cell_type": "markdown",
   "id": "5273ae30",
   "metadata": {},
   "source": [
    "### Data Exploration 1"
   ]
  },
  {
   "cell_type": "markdown",
   "id": "9d8b0a88",
   "metadata": {},
   "source": [
    "This is the first part of data exploration, and will help us to better understand the data (and to later merge all the dataframes into a single one)."
   ]
  },
  {
   "cell_type": "code",
   "execution_count": 9,
   "id": "bd97cdad",
   "metadata": {},
   "outputs": [
    {
     "name": "stdout",
     "output_type": "stream",
     "text": [
      "Number of unique item categories:  84\n",
      "Number of unique item types:  20\n",
      "Number of unique items:  22170\n",
      "Number of shops:  60\n",
      "Number of cities:  32\n",
      "Number of data records:  2935849\n",
      "Number of months:  34\n",
      "Oldest date:  2013-01-01 00:00:00\n",
      "Newest date:  2015-10-31 00:00:00\n",
      "Items price range:  -1.0 - 307980.0\n",
      "Number of units sold range:  -22.0 - 2169.0\n"
     ]
    }
   ],
   "source": [
    "# Number of unique item categories\n",
    "item_cats_num = len(item_cats)\n",
    "print('Number of unique item categories: ',item_cats_num)\n",
    "\n",
    "# Number of unique item types\n",
    "item_types_num = len(item_cats.type_id.unique())\n",
    "print('Number of unique item types: ',item_types_num)\n",
    "\n",
    "# Number of unique items\n",
    "items_num = len(items)\n",
    "print('Number of unique items: ',items_num)\n",
    "\n",
    "# Number of shops\n",
    "shops_num = len(shops)\n",
    "print('Number of shops: ',shops_num)\n",
    "\n",
    "# Number of cities\n",
    "cities_num = len(shops.city_id.unique())\n",
    "print('Number of cities: ',cities_num)\n",
    "\n",
    "# Number of database records\n",
    "data_records_num = len(sales_train)\n",
    "print('Number of data records: ',data_records_num)\n",
    "\n",
    "# Number of months\n",
    "months_num = len(sales_train.date_block_num.unique())\n",
    "print('Number of months: ',months_num)\n",
    "\n",
    "# Date of oldest record and newest record\n",
    "dates_in_dt_format = pd.to_datetime(sales_train['date'], format='%d.%m.%Y')\n",
    "oldest_date = dates_in_dt_format.min()\n",
    "print('Oldest date: ',oldest_date)\n",
    "newest_date = dates_in_dt_format.max()\n",
    "print('Newest date: ',newest_date)\n",
    "\n",
    "# Range of prices\n",
    "lowest_price = sales_train.item_price.min()\n",
    "highest_price = sales_train.item_price.max()\n",
    "print('Items price range: ', lowest_price, '-', highest_price)\n",
    "\n",
    "# Range of units sold\n",
    "lowest_num_units = sales_train.item_cnt_day.min()\n",
    "highest_num_units = sales_train.item_cnt_day.max()\n",
    "print('Number of units sold range: ', lowest_num_units, '-', highest_num_units)"
   ]
  },
  {
   "cell_type": "markdown",
   "id": "70e45117",
   "metadata": {},
   "source": [
    "We will now create some plots to get even more details about the data."
   ]
  },
  {
   "cell_type": "code",
   "execution_count": 10,
   "id": "4104ac37",
   "metadata": {},
   "outputs": [
    {
     "data": {
      "image/png": "[encoded data removed]",
      "text/plain": [
       "<Figure size 2000x500 with 1 Axes>"
      ]
     },
     "metadata": {},
     "output_type": "display_data"
    }
   ],
   "source": [
    "# Create a plot to see the distribution of items among the different item categories\n",
    "\n",
    "temp_df = item_cats['item_category_id'].to_frame()\n",
    "\n",
    "temp_df2 = items['item_category_id'].value_counts().to_frame()\n",
    "temp_df2.columns = ['items_num']\n",
    "\n",
    "temp_df = temp_df.merge(temp_df2, left_on='item_category_id', right_index=True).sort_values(by='items_num', ascending=False)\n",
    "\n",
    "ax = temp_df.plot.bar(x='item_category_id', y='items_num', rot=45, figsize=(20,5), \n",
    "                      title='Number of unique \"item_ids\" for each \"item_category_id\"')"
   ]
  },
  {
   "cell_type": "markdown",
   "id": "d3911b07",
   "metadata": {},
   "source": [
    "__What we observe in the plot (bar chart) above:__  \n",
    "- The data is not uniformly distributed. Some item categories contain numerous item ids, while some others contain very few.\n",
    "- From the total of 84 item categories, only 4 contain more than 1000 item id's.  \n",
    "- There are 11 item categories that contain very few (<=5) item id's."
   ]
  },
  {
   "cell_type": "code",
   "execution_count": 11,
   "id": "282241af",
   "metadata": {},
   "outputs": [
    {
     "name": "stderr",
     "output_type": "stream",
     "text": [
      "C:\\Users\\SESA671988\\AppData\\Local\\Temp\\ipykernel_7180\\2278806110.py:4: SettingWithCopyWarning: \n",
      "A value is trying to be set on a copy of a slice from a DataFrame.\n",
      "Try using .loc[row_indexer,col_indexer] = value instead\n",
      "\n",
      "See the caveats in the documentation: https://pandas.pydata.org/pandas-docs/stable/user_guide/indexing.html#returning-a-view-versus-a-copy\n",
      "  temp_df['revenue'] = temp_df['item_cnt_day'] * temp_df['item_price']\n"
     ]
    },
    {
     "data": {
      "image/png": "[encoded data removed]",
      "text/plain": [
       "<Figure size 2000x500 with 2 Axes>"
      ]
     },
     "metadata": {},
     "output_type": "display_data"
    }
   ],
   "source": [
    "# Create a plot to see how many items (of any item_id) each shop has sold, along with the total revenue generated\n",
    "\n",
    "temp_df = sales_train[['shop_id','item_cnt_day','item_price']]\n",
    "temp_df['revenue'] = temp_df['item_cnt_day'] * temp_df['item_price']\n",
    "\n",
    "temp_df = temp_df.groupby('shop_id').agg({'item_cnt_day':sum, 'revenue':sum})\n",
    "temp_df.reset_index(inplace=True)\n",
    "\n",
    "fig = plt.figure(figsize=(20,5))  #Create matplotlib figure\n",
    "\n",
    "ax = fig.add_subplot(111)  #Create matplotlib axes\n",
    "ax2 = ax.twinx()  #Create another axes that shares the same x-axis as ax.\n",
    "\n",
    "temp_df.item_cnt_day.plot(kind='bar', color='red', ax=ax, width=0.4, position=1, label='Amount of items sold')\n",
    "temp_df.revenue.plot(kind='bar', color='blue', ax=ax2, width=0.4, position=0, label='Total revenue generated')\n",
    "\n",
    "ax.set_ylabel('Amount of items sold')\n",
    "ax2.set_ylabel('Total revenue generated')\n",
    "\n",
    "plt.title('Number of items sold and total revenue generated, for each shop')\n",
    "ax.set_xlabel('shop_id')\n",
    "ax.legend(loc=\"upper left\")\n",
    "ax2.legend(loc=\"upper right\")\n",
    "\n",
    "plt.show()"
   ]
  },
  {
   "cell_type": "markdown",
   "id": "0865ea71",
   "metadata": {},
   "source": [
    "__What we observe in the plot (bar chart) above:__  \n",
    "- There is a lot of variation among the shops: Some are doing much better (items sold, revenue generated) than others.\n",
    "- From the total of 60 shops, only 4 have sold more than 150,000 items and only 8 have sold more than 100,000 items.  \n",
    "- There are 2 shops that have sold less than 1000 items."
   ]
  },
  {
   "cell_type": "markdown",
   "id": "d8da1d20",
   "metadata": {},
   "source": [
    "### Data Processing - Join Datasets into a Single Dataframe"
   ]
  },
  {
   "cell_type": "markdown",
   "id": "df183bb3",
   "metadata": {},
   "source": [
    "The main dataset is in the dataframe called \"__sales_train__\". \n",
    "1. We will first join this dataframe with the one called \"__items__\", in order to add the __item_name__ and __item_category_id__ to our dataset.\n",
    "2. Then we will join the new dataframe with the one called \"__item_cats__\", in order to add the __item_category_name__, __type_name__ and __type_id__ to our dataset.\n",
    "3. Finally, we will make one more join with the dataframe called \"__shops__\", in order to add the __shop_name__, __city_name__ and __city_id__ to our dataset.\n",
    "\n",
    "The above process merges the 4 of the dataframes we have loaded for our project. The fifth dataframe, called \"__sales_test__\", is not going to be used. This is because it only contains the __shop_id__ and __item_id__ for us to make sales predictions. But without knowing the ground truth to compare our predictions with, it does not add any value to our project."
   ]
  },
  {
   "cell_type": "code",
   "execution_count": 12,
   "id": "bc7ea346",
   "metadata": {},
   "outputs": [],
   "source": [
    "# First Merge, as described above on Point \"1\"\n",
    "complete_df = pd.merge(sales_train, items, how='left', left_on='item_id', right_on='item_id')\n",
    "# Second Merge, as described above on Point \"2\"\n",
    "complete_df = pd.merge(complete_df, item_cats, how='left', left_on='item_category_id', right_on='item_category_id')\n",
    "# Third Merge, as described above on Point \"3\"\n",
    "complete_df = pd.merge(complete_df, shops, how='left', left_on='shop_id', right_on='shop_id')"
   ]
  },
  {
   "cell_type": "markdown",
   "id": "44cd310f",
   "metadata": {},
   "source": [
    "Get a glimpse of the data, by printing the first 2 rows of the dataframe after the above merges."
   ]
  },
  {
   "cell_type": "code",
   "execution_count": 13,
   "id": "206b1671",
   "metadata": {},
   "outputs": [
    {
     "data": {
      "text/html": [
       "<div>\n",
       "<style scoped>\n",
       "    .dataframe tbody tr th:only-of-type {\n",
       "        vertical-align: middle;\n",
       "    }\n",
       "\n",
       "    .dataframe tbody tr th {\n",
       "        vertical-align: top;\n",
       "    }\n",
       "\n",
       "    .dataframe thead th {\n",
       "        text-align: right;\n",
       "    }\n",
       "</style>\n",
       "<table border=\"1\" class=\"dataframe\">\n",
       "  <thead>\n",
       "    <tr style=\"text-align: right;\">\n",
       "      <th></th>\n",
       "      <th>date</th>\n",
       "      <th>date_block_num</th>\n",
       "      <th>shop_id</th>\n",
       "      <th>item_id</th>\n",
       "      <th>item_price</th>\n",
       "      <th>item_cnt_day</th>\n",
       "      <th>item_name</th>\n",
       "      <th>item_category_id</th>\n",
       "      <th>item_category_name</th>\n",
       "      <th>type_name</th>\n",
       "      <th>type_id</th>\n",
       "      <th>shop_name</th>\n",
       "      <th>city_name</th>\n",
       "      <th>city_id</th>\n",
       "    </tr>\n",
       "  </thead>\n",
       "  <tbody>\n",
       "    <tr>\n",
       "      <th>0</th>\n",
       "      <td>02.01.2013</td>\n",
       "      <td>0</td>\n",
       "      <td>59</td>\n",
       "      <td>22154</td>\n",
       "      <td>999.0</td>\n",
       "      <td>1.0</td>\n",
       "      <td>Item 22154</td>\n",
       "      <td>37</td>\n",
       "      <td>Item Category 37</td>\n",
       "      <td>Type 11</td>\n",
       "      <td>11</td>\n",
       "      <td>Shop 59</td>\n",
       "      <td>City 31</td>\n",
       "      <td>31</td>\n",
       "    </tr>\n",
       "    <tr>\n",
       "      <th>1</th>\n",
       "      <td>03.01.2013</td>\n",
       "      <td>0</td>\n",
       "      <td>25</td>\n",
       "      <td>2552</td>\n",
       "      <td>899.0</td>\n",
       "      <td>1.0</td>\n",
       "      <td>Item 2552</td>\n",
       "      <td>58</td>\n",
       "      <td>Item Category 58</td>\n",
       "      <td>Type 13</td>\n",
       "      <td>13</td>\n",
       "      <td>Shop 25</td>\n",
       "      <td>City 14</td>\n",
       "      <td>14</td>\n",
       "    </tr>\n",
       "  </tbody>\n",
       "</table>\n",
       "</div>"
      ],
      "text/plain": [
       "         date  date_block_num  shop_id  item_id  item_price  item_cnt_day  \\\n",
       "0  02.01.2013               0       59    22154       999.0           1.0   \n",
       "1  03.01.2013               0       25     2552       899.0           1.0   \n",
       "\n",
       "    item_name  item_category_id item_category_name type_name  type_id  \\\n",
       "0  Item 22154                37   Item Category 37   Type 11       11   \n",
       "1   Item 2552                58   Item Category 58   Type 13       13   \n",
       "\n",
       "  shop_name city_name  city_id  \n",
       "0   Shop 59   City 31       31  \n",
       "1   Shop 25   City 14       14  "
      ]
     },
     "execution_count": 13,
     "metadata": {},
     "output_type": "execute_result"
    }
   ],
   "source": [
    "complete_df.head(2)"
   ]
  },
  {
   "cell_type": "markdown",
   "id": "14527e9c",
   "metadata": {},
   "source": [
    "We will now split the __date__ into __month__ and __year__, to facilitate the data post processing we perform later in this notebook. Moreover, we will create a new column called __revenue__, containing the revenue generated from each transaction (dataset row).\n",
    "\n",
    "Note: Based on the data description, the __data_block_num__ is \"...a consecutive month number, used for convenience. January 2013 is 0, February 2013 is 1,..., October 2015 is 33\"."
   ]
  },
  {
   "cell_type": "code",
   "execution_count": 14,
   "id": "95d7f974",
   "metadata": {},
   "outputs": [
    {
     "data": {
      "text/html": [
       "<div>\n",
       "<style scoped>\n",
       "    .dataframe tbody tr th:only-of-type {\n",
       "        vertical-align: middle;\n",
       "    }\n",
       "\n",
       "    .dataframe tbody tr th {\n",
       "        vertical-align: top;\n",
       "    }\n",
       "\n",
       "    .dataframe thead th {\n",
       "        text-align: right;\n",
       "    }\n",
       "</style>\n",
       "<table border=\"1\" class=\"dataframe\">\n",
       "  <thead>\n",
       "    <tr style=\"text-align: right;\">\n",
       "      <th></th>\n",
       "      <th>date</th>\n",
       "      <th>date_block_num</th>\n",
       "      <th>shop_id</th>\n",
       "      <th>item_id</th>\n",
       "      <th>item_price</th>\n",
       "      <th>item_cnt_day</th>\n",
       "      <th>item_name</th>\n",
       "      <th>item_category_id</th>\n",
       "      <th>item_category_name</th>\n",
       "      <th>type_name</th>\n",
       "      <th>type_id</th>\n",
       "      <th>shop_name</th>\n",
       "      <th>city_name</th>\n",
       "      <th>city_id</th>\n",
       "      <th>month</th>\n",
       "      <th>year</th>\n",
       "      <th>revenue</th>\n",
       "    </tr>\n",
       "  </thead>\n",
       "  <tbody>\n",
       "    <tr>\n",
       "      <th>0</th>\n",
       "      <td>2013-01-02</td>\n",
       "      <td>0</td>\n",
       "      <td>59</td>\n",
       "      <td>22154</td>\n",
       "      <td>999.0</td>\n",
       "      <td>1.0</td>\n",
       "      <td>Item 22154</td>\n",
       "      <td>37</td>\n",
       "      <td>Item Category 37</td>\n",
       "      <td>Type 11</td>\n",
       "      <td>11</td>\n",
       "      <td>Shop 59</td>\n",
       "      <td>City 31</td>\n",
       "      <td>31</td>\n",
       "      <td>1</td>\n",
       "      <td>2013</td>\n",
       "      <td>999.0</td>\n",
       "    </tr>\n",
       "    <tr>\n",
       "      <th>1</th>\n",
       "      <td>2013-01-03</td>\n",
       "      <td>0</td>\n",
       "      <td>25</td>\n",
       "      <td>2552</td>\n",
       "      <td>899.0</td>\n",
       "      <td>1.0</td>\n",
       "      <td>Item 2552</td>\n",
       "      <td>58</td>\n",
       "      <td>Item Category 58</td>\n",
       "      <td>Type 13</td>\n",
       "      <td>13</td>\n",
       "      <td>Shop 25</td>\n",
       "      <td>City 14</td>\n",
       "      <td>14</td>\n",
       "      <td>1</td>\n",
       "      <td>2013</td>\n",
       "      <td>899.0</td>\n",
       "    </tr>\n",
       "  </tbody>\n",
       "</table>\n",
       "</div>"
      ],
      "text/plain": [
       "        date  date_block_num  shop_id  item_id  item_price  item_cnt_day  \\\n",
       "0 2013-01-02               0       59    22154       999.0           1.0   \n",
       "1 2013-01-03               0       25     2552       899.0           1.0   \n",
       "\n",
       "    item_name  item_category_id item_category_name type_name  type_id  \\\n",
       "0  Item 22154                37   Item Category 37   Type 11       11   \n",
       "1   Item 2552                58   Item Category 58   Type 13       13   \n",
       "\n",
       "  shop_name city_name  city_id  month  year  revenue  \n",
       "0   Shop 59   City 31       31      1  2013    999.0  \n",
       "1   Shop 25   City 14       14      1  2013    899.0  "
      ]
     },
     "execution_count": 14,
     "metadata": {},
     "output_type": "execute_result"
    }
   ],
   "source": [
    "# Create a column with the \"month\" and a column with the \"year\" information\n",
    "complete_df['date'] = pd.to_datetime(complete_df['date'], format='%d.%m.%Y')\n",
    "complete_df['month'] = complete_df['date'].dt.month\n",
    "complete_df['year'] = complete_df['date'].dt.year\n",
    "\n",
    "# Create a column with the \"revenue\" generated from each transaction (dataset row)\n",
    "complete_df['revenue'] = complete_df['item_price'] * complete_df['item_cnt_day']\n",
    "\n",
    "complete_df.head(2)"
   ]
  },
  {
   "cell_type": "markdown",
   "id": "02ff2e8a",
   "metadata": {},
   "source": [
    "Dataframe shape and data quality:"
   ]
  },
  {
   "cell_type": "code",
   "execution_count": 15,
   "id": "eafb120b",
   "metadata": {},
   "outputs": [
    {
     "name": "stdout",
     "output_type": "stream",
     "text": [
      "Dataframe shape: (2935849, 17)\n",
      "Number of missing (NaN) values: 0\n"
     ]
    }
   ],
   "source": [
    "print('Dataframe shape:', complete_df.shape)\n",
    "print('Number of missing (NaN) values:', complete_df.isna().sum().sum())"
   ]
  },
  {
   "cell_type": "markdown",
   "id": "e1a9c608",
   "metadata": {},
   "source": [
    "### Data Exploration 2"
   ]
  },
  {
   "cell_type": "markdown",
   "id": "3834df75",
   "metadata": {},
   "source": [
    "Now that we have all the data stored in a single dataframe, we will perform some more extensive data exploration."
   ]
  },
  {
   "cell_type": "code",
   "execution_count": 16,
   "id": "5a749587",
   "metadata": {},
   "outputs": [
    {
     "name": "stdout",
     "output_type": "stream",
     "text": [
      "        item_price                \n",
      "              mean     min     max\n",
      "item_id                           \n",
      "0             58.0    58.0    58.0\n",
      "1           4490.0  4490.0  4490.0\n",
      "2             58.0    58.0    58.0\n",
      "3             79.0    58.0   100.0\n",
      "4             58.0    58.0    58.0\n",
      "\n",
      "We will focus on the average price of each item, and calculate some useful statistics among all the items\n"
     ]
    },
    {
     "data": {
      "text/plain": [
       "count     21807.000000\n",
       "mean        823.890413\n",
       "std        2784.195667\n",
       "min           4.914856\n",
       "1%           28.000000\n",
       "50%         322.363636\n",
       "95%        2512.887694\n",
       "99%        7966.172104\n",
       "max      307980.000000\n",
       "Name: (item_price, mean), dtype: float64"
      ]
     },
     "execution_count": 16,
     "metadata": {},
     "output_type": "execute_result"
    }
   ],
   "source": [
    "# Info about item price\n",
    "# Note: This aggregation does not consider the time component (e.g. per month / year / etc)\n",
    "item_price_df = complete_df[['item_id', 'item_price']].groupby('item_id').agg({'item_price':['mean','min','max']})\n",
    "print(item_price_df.head(5))\n",
    "\n",
    "print('\\nWe will focus on the average price of each item, and calculate some useful statistics among all the items')\n",
    "item_price_df[('item_price','mean')].describe(percentiles=[.01, .5, .95, .99]).T"
   ]
  },
  {
   "cell_type": "markdown",
   "id": "7cfdf90c",
   "metadata": {},
   "source": [
    "__What we observe in the descriptive statistics above:__  \n",
    "- There are big differences among the average prices of the items being sold.\n",
    "- 50% of the items have an average price of less than 322.\n",
    "- 95% of the items have an average price of less than 2,512.\n",
    "- However, 1% of the items have an average price of more than 7,966, and the maximum average price is 307,980."
   ]
  },
  {
   "cell_type": "code",
   "execution_count": 17,
   "id": "19ffafd5",
   "metadata": {},
   "outputs": [
    {
     "data": {
      "text/html": [
       "<div>\n",
       "<style scoped>\n",
       "    .dataframe tbody tr th:only-of-type {\n",
       "        vertical-align: middle;\n",
       "    }\n",
       "\n",
       "    .dataframe tbody tr th {\n",
       "        vertical-align: top;\n",
       "    }\n",
       "\n",
       "    .dataframe thead th {\n",
       "        text-align: right;\n",
       "    }\n",
       "</style>\n",
       "<table border=\"1\" class=\"dataframe\">\n",
       "  <thead>\n",
       "    <tr style=\"text-align: right;\">\n",
       "      <th></th>\n",
       "      <th>date_block_num</th>\n",
       "      <th>month</th>\n",
       "      <th>year</th>\n",
       "      <th>shop_id</th>\n",
       "      <th>item_category_id</th>\n",
       "      <th>item_id</th>\n",
       "      <th>item_cnt_day_Total</th>\n",
       "      <th>revenue_Total</th>\n",
       "      <th>item_price_Mean</th>\n",
       "    </tr>\n",
       "  </thead>\n",
       "  <tbody>\n",
       "    <tr>\n",
       "      <th>0</th>\n",
       "      <td>0</td>\n",
       "      <td>1</td>\n",
       "      <td>2013</td>\n",
       "      <td>0</td>\n",
       "      <td>2</td>\n",
       "      <td>5572</td>\n",
       "      <td>10.0</td>\n",
       "      <td>13220.0</td>\n",
       "      <td>1322.0</td>\n",
       "    </tr>\n",
       "    <tr>\n",
       "      <th>1</th>\n",
       "      <td>0</td>\n",
       "      <td>1</td>\n",
       "      <td>2013</td>\n",
       "      <td>0</td>\n",
       "      <td>2</td>\n",
       "      <td>5573</td>\n",
       "      <td>1.0</td>\n",
       "      <td>560.0</td>\n",
       "      <td>560.0</td>\n",
       "    </tr>\n",
       "  </tbody>\n",
       "</table>\n",
       "</div>"
      ],
      "text/plain": [
       "   date_block_num  month  year  shop_id  item_category_id  item_id  \\\n",
       "0               0      1  2013        0                 2     5572   \n",
       "1               0      1  2013        0                 2     5573   \n",
       "\n",
       "   item_cnt_day_Total  revenue_Total  item_price_Mean  \n",
       "0                10.0        13220.0           1322.0  \n",
       "1                 1.0          560.0            560.0  "
      ]
     },
     "execution_count": 17,
     "metadata": {},
     "output_type": "execute_result"
    }
   ],
   "source": [
    "# Info about item_cnt_day, revenue, item price\n",
    "# Note: This aggregation does consider the time component (e.g. per month / year / etc)\n",
    "item_cnt_day_revenue_price_df = complete_df[['date_block_num', 'month', 'year', 'shop_id', 'item_category_id', 'item_id', 'item_cnt_day', 'revenue', 'item_price']].groupby(\n",
    "            ['date_block_num', 'month', 'year', 'shop_id', 'item_category_id', 'item_id']).agg({'item_cnt_day':'sum', 'revenue':'sum', 'item_price':'mean'})\n",
    "item_cnt_day_revenue_price_df.reset_index(inplace=True)\n",
    "item_cnt_day_revenue_price_df.columns = item_cnt_day_revenue_price_df.columns.get_level_values(0)\n",
    "item_cnt_day_revenue_price_df.rename(columns={'item_cnt_day':'item_cnt_day_Total','revenue':'revenue_Total','item_price':'item_price_Mean'}, inplace=True)\n",
    "\n",
    "item_cnt_day_revenue_price_df.head(2)"
   ]
  },
  {
   "cell_type": "code",
   "execution_count": 18,
   "id": "6c7fb485",
   "metadata": {},
   "outputs": [
    {
     "data": {
      "image/png": "[encoded data removed]",
      "text/plain": [
       "<Figure size 2000x500 with 2 Axes>"
      ]
     },
     "metadata": {},
     "output_type": "display_data"
    }
   ],
   "source": [
    "# Create a plot to see (monthly) number of items sold and revenue generated through time\n",
    "\n",
    "fig = plt.figure(figsize=(20,5))  #Create matplotlib figure\n",
    "\n",
    "ax = fig.add_subplot(111)  #Create matplotlib axes\n",
    "ax2 = ax.twinx()  #Create another axes that shares the same x-axis as ax.\n",
    "\n",
    "temp_df = item_cnt_day_revenue_price_df[['date_block_num', 'item_cnt_day_Total']].groupby('date_block_num').sum()\n",
    "temp_df.plot(color='red', ax=ax, label='Total items sold through time')\n",
    "\n",
    "temp_df = item_cnt_day_revenue_price_df[['date_block_num', 'revenue_Total']].groupby('date_block_num').sum()\n",
    "temp_df.plot(color='blue', ax=ax2, label='Total revenue generated through time')\n",
    "\n",
    "ax.set_ylabel('Total items sold')\n",
    "ax2.set_ylabel('Total revenue generated')\n",
    "\n",
    "plt.title('Number of items sold and total revenue generated, through time')\n",
    "ax.set_xlabel('date_block_num')\n",
    "ax.legend(loc=\"upper left\")\n",
    "ax2.legend(loc=\"upper right\")\n",
    "\n",
    "plt.show()"
   ]
  },
  {
   "cell_type": "markdown",
   "id": "0d304502",
   "metadata": {},
   "source": [
    "__What we observe in the plot above:__  \n",
    "- Both the number of products sold and the revenue generated are declining during the 34 months contained in the data.\n",
    "- There is a significant seasonality appearing in the data around months 11-12 and 23-24. These months correspond to November and December of the 1st and 2nd year respectively, so the sales increase a lot due to the __Christmas__ period."
   ]
  },
  {
   "cell_type": "code",
   "execution_count": 19,
   "id": "2b582e75",
   "metadata": {},
   "outputs": [
    {
     "data": {
      "image/png": "[encoded data removed]",
      "text/plain": [
       "<Figure size 2000x500 with 2 Axes>"
      ]
     },
     "metadata": {},
     "output_type": "display_data"
    }
   ],
   "source": [
    "# Create a plot to see how many items (of any item_id) have been sold in each city, along with the total revenue generated\n",
    "\n",
    "temp_df = complete_df[['city_id','item_cnt_day','revenue']]\n",
    "\n",
    "temp_df = temp_df.groupby('city_id').agg({'item_cnt_day':sum, 'revenue':sum})\n",
    "temp_df.reset_index(inplace=True)\n",
    "\n",
    "fig = plt.figure(figsize=(20,5))  #Create matplotlib figure\n",
    "\n",
    "ax = fig.add_subplot(111)  #Create matplotlib axes\n",
    "ax2 = ax.twinx()  #Create another axes that shares the same x-axis as ax.\n",
    "\n",
    "temp_df.item_cnt_day.plot(kind='bar', color='red', ax=ax, width=0.4, position=1, label='Amount of items sold')\n",
    "temp_df.revenue.plot(kind='bar', color='blue', ax=ax2, width=0.4, position=0, label='Total revenue generated')\n",
    "\n",
    "ax.set_ylabel('Amount of items sold')\n",
    "ax2.set_ylabel('Total revenue generated')\n",
    "\n",
    "plt.title('Number of items sold and total revenue generated, for each city')\n",
    "ax.set_xlabel('city_id')\n",
    "ax.legend(loc=\"upper left\")\n",
    "ax2.legend(loc=\"upper right\")\n",
    "\n",
    "plt.show()"
   ]
  },
  {
   "cell_type": "markdown",
   "id": "cc08e9d2",
   "metadata": {},
   "source": [
    "__What we observe in the plot (bar chart) above:__  \n",
    "- There is a lot of variation among the cities: Some are doing much better (items sold, revenue generated) than others.\n",
    "- From the total of 32 cities, only 1 has sold more than 300,000 items and only 2 have sold more than 200,000 items.  \n",
    "- There is 1 city that is doing by far better than the rest: city with id #14 has sold 1,276,376 items during the 34 months of interest."
   ]
  },
  {
   "cell_type": "markdown",
   "id": "a33ffffc",
   "metadata": {},
   "source": [
    "### Data Preparation 2 - Sanity Checks and Fixes"
   ]
  },
  {
   "cell_type": "code",
   "execution_count": 20,
   "id": "96f316a7",
   "metadata": {},
   "outputs": [
    {
     "name": "stdout",
     "output_type": "stream",
     "text": [
      "Check1: Number of transactions (rows) where item_price<0:  1\n",
      "Check2: Number of NaN values in the data:  0\n"
     ]
    }
   ],
   "source": [
    "#[1] Replace a price which is <0 with the average price for the respective shop / item / month\n",
    "\n",
    "len_1 = len(complete_df[complete_df['item_price']<=0])\n",
    "print('Check1: Number of transactions (rows) where item_price<0: ',len_1)\n",
    "\n",
    "if len_1 == 1:\n",
    "\n",
    "    my_shop_id = complete_df[complete_df['item_price']<=0].shop_id.values[0]\n",
    "    my_item_id = complete_df[complete_df['item_price']<=0].item_id.values[0]\n",
    "    my_month = complete_df[complete_df['item_price']<=0].date_block_num.values[0]\n",
    "    new_val_1 = complete_df[(complete_df['shop_id']==my_shop_id)&(complete_df['item_id']==my_item_id)&(\n",
    "                        complete_df['date_block_num']==my_month)&(complete_df['item_price']>0)].item_price.mean() \n",
    "\n",
    "    complete_df.loc[complete_df.item_price<0, 'item_price'] = new_val_1\n",
    "    complete_df['revenue'] = complete_df['item_price'] * complete_df['item_cnt_day']\n",
    "    \n",
    "#[2] Check if there are any NaN values in the data\n",
    "\n",
    "len_2 = complete_df.isna().sum().sum()\n",
    "print('Check2: Number of NaN values in the data: ',len_2)"
   ]
  },
  {
   "cell_type": "markdown",
   "id": "d78c7efa",
   "metadata": {},
   "source": [
    "Create a dataframe called \"__complete_df_monthly__\" that contains data grouped per month. We will use this later in the notebook."
   ]
  },
  {
   "cell_type": "code",
   "execution_count": 21,
   "id": "415e6cb3",
   "metadata": {},
   "outputs": [
    {
     "data": {
      "text/html": [
       "<div>\n",
       "<style scoped>\n",
       "    .dataframe tbody tr th:only-of-type {\n",
       "        vertical-align: middle;\n",
       "    }\n",
       "\n",
       "    .dataframe tbody tr th {\n",
       "        vertical-align: top;\n",
       "    }\n",
       "\n",
       "    .dataframe thead th {\n",
       "        text-align: right;\n",
       "    }\n",
       "</style>\n",
       "<table border=\"1\" class=\"dataframe\">\n",
       "  <thead>\n",
       "    <tr style=\"text-align: right;\">\n",
       "      <th></th>\n",
       "      <th>date_block_num</th>\n",
       "      <th>shop_id</th>\n",
       "      <th>item_id</th>\n",
       "      <th>item_name</th>\n",
       "      <th>item_category_id</th>\n",
       "      <th>item_category_name</th>\n",
       "      <th>type_name</th>\n",
       "      <th>type_id</th>\n",
       "      <th>shop_name</th>\n",
       "      <th>city_name</th>\n",
       "      <th>city_id</th>\n",
       "      <th>month</th>\n",
       "      <th>year</th>\n",
       "      <th>item_cnt_month_ORIG</th>\n",
       "      <th>revenue_month_ORIG</th>\n",
       "    </tr>\n",
       "  </thead>\n",
       "  <tbody>\n",
       "    <tr>\n",
       "      <th>0</th>\n",
       "      <td>0</td>\n",
       "      <td>0</td>\n",
       "      <td>32</td>\n",
       "      <td>Item 32</td>\n",
       "      <td>40</td>\n",
       "      <td>Item Category 40</td>\n",
       "      <td>Type 11</td>\n",
       "      <td>11</td>\n",
       "      <td>Shop 0</td>\n",
       "      <td>City 0</td>\n",
       "      <td>0</td>\n",
       "      <td>1</td>\n",
       "      <td>2013</td>\n",
       "      <td>6.0</td>\n",
       "      <td>1326.0</td>\n",
       "    </tr>\n",
       "    <tr>\n",
       "      <th>1</th>\n",
       "      <td>0</td>\n",
       "      <td>0</td>\n",
       "      <td>33</td>\n",
       "      <td>Item 33</td>\n",
       "      <td>37</td>\n",
       "      <td>Item Category 37</td>\n",
       "      <td>Type 11</td>\n",
       "      <td>11</td>\n",
       "      <td>Shop 0</td>\n",
       "      <td>City 0</td>\n",
       "      <td>0</td>\n",
       "      <td>1</td>\n",
       "      <td>2013</td>\n",
       "      <td>3.0</td>\n",
       "      <td>1041.0</td>\n",
       "    </tr>\n",
       "    <tr>\n",
       "      <th>2</th>\n",
       "      <td>0</td>\n",
       "      <td>0</td>\n",
       "      <td>35</td>\n",
       "      <td>Item 35</td>\n",
       "      <td>40</td>\n",
       "      <td>Item Category 40</td>\n",
       "      <td>Type 11</td>\n",
       "      <td>11</td>\n",
       "      <td>Shop 0</td>\n",
       "      <td>City 0</td>\n",
       "      <td>0</td>\n",
       "      <td>1</td>\n",
       "      <td>2013</td>\n",
       "      <td>1.0</td>\n",
       "      <td>247.0</td>\n",
       "    </tr>\n",
       "    <tr>\n",
       "      <th>3</th>\n",
       "      <td>0</td>\n",
       "      <td>0</td>\n",
       "      <td>43</td>\n",
       "      <td>Item 43</td>\n",
       "      <td>40</td>\n",
       "      <td>Item Category 40</td>\n",
       "      <td>Type 11</td>\n",
       "      <td>11</td>\n",
       "      <td>Shop 0</td>\n",
       "      <td>City 0</td>\n",
       "      <td>0</td>\n",
       "      <td>1</td>\n",
       "      <td>2013</td>\n",
       "      <td>1.0</td>\n",
       "      <td>221.0</td>\n",
       "    </tr>\n",
       "    <tr>\n",
       "      <th>4</th>\n",
       "      <td>0</td>\n",
       "      <td>0</td>\n",
       "      <td>51</td>\n",
       "      <td>Item 51</td>\n",
       "      <td>57</td>\n",
       "      <td>Item Category 57</td>\n",
       "      <td>Type 13</td>\n",
       "      <td>13</td>\n",
       "      <td>Shop 0</td>\n",
       "      <td>City 0</td>\n",
       "      <td>0</td>\n",
       "      <td>1</td>\n",
       "      <td>2013</td>\n",
       "      <td>2.0</td>\n",
       "      <td>257.0</td>\n",
       "    </tr>\n",
       "  </tbody>\n",
       "</table>\n",
       "</div>"
      ],
      "text/plain": [
       "   date_block_num  shop_id  item_id item_name  item_category_id  \\\n",
       "0               0        0       32   Item 32                40   \n",
       "1               0        0       33   Item 33                37   \n",
       "2               0        0       35   Item 35                40   \n",
       "3               0        0       43   Item 43                40   \n",
       "4               0        0       51   Item 51                57   \n",
       "\n",
       "  item_category_name type_name  type_id shop_name city_name  city_id  month  \\\n",
       "0   Item Category 40   Type 11       11    Shop 0    City 0        0      1   \n",
       "1   Item Category 37   Type 11       11    Shop 0    City 0        0      1   \n",
       "2   Item Category 40   Type 11       11    Shop 0    City 0        0      1   \n",
       "3   Item Category 40   Type 11       11    Shop 0    City 0        0      1   \n",
       "4   Item Category 57   Type 13       13    Shop 0    City 0        0      1   \n",
       "\n",
       "   year  item_cnt_month_ORIG  revenue_month_ORIG  \n",
       "0  2013                  6.0              1326.0  \n",
       "1  2013                  3.0              1041.0  \n",
       "2  2013                  1.0               247.0  \n",
       "3  2013                  1.0               221.0  \n",
       "4  2013                  2.0               257.0  "
      ]
     },
     "execution_count": 21,
     "metadata": {},
     "output_type": "execute_result"
    }
   ],
   "source": [
    "complete_df_monthly = complete_df.groupby(['date_block_num','shop_id','item_id','item_name','item_category_id',\n",
    "                                           'item_category_name','type_name','type_id','shop_name','city_name','city_id',\n",
    "                                           'month','year']).agg({'item_cnt_day': ['sum'], 'revenue': ['sum']})\n",
    "complete_df_monthly.columns=['item_cnt_month_ORIG','revenue_month_ORIG']\n",
    "complete_df_monthly.reset_index(inplace=True)\n",
    "complete_df_monthly.head()"
   ]
  },
  {
   "cell_type": "code",
   "execution_count": 22,
   "id": "53b1cb76",
   "metadata": {},
   "outputs": [
    {
     "data": {
      "text/plain": [
       "(1609124, 15)"
      ]
     },
     "execution_count": 22,
     "metadata": {},
     "output_type": "execute_result"
    }
   ],
   "source": [
    "complete_df_monthly.shape"
   ]
  },
  {
   "cell_type": "markdown",
   "id": "2ccece54",
   "metadata": {},
   "source": [
    "### Feature Engineering"
   ]
  },
  {
   "cell_type": "markdown",
   "id": "accbc620",
   "metadata": {},
   "source": [
    "In this section we will create new data features that will enrich our dataset and better describe it, capturing valuable information and patterns. Mainly we will focus on average monthly sales among different combinations of existing features, such as items, shops, categories, cities, etc."
   ]
  },
  {
   "cell_type": "code",
   "execution_count": 23,
   "id": "f42ca37d",
   "metadata": {},
   "outputs": [],
   "source": [
    "#[1] For each combination of (date_block_num, shop_id, item_id) calculate the monthly sales\n",
    "temp_df = complete_df.groupby(['date_block_num','shop_id','item_id']).agg({'item_cnt_day': ['sum']})\n",
    "temp_df.columns = ['item_cnt_month']\n",
    "temp_df.reset_index(inplace=True)\n",
    "\n",
    "complete_df = pd.merge(complete_df, temp_df, how='left', on=['date_block_num','shop_id','item_id'])\n",
    "\n",
    "#[2] For each month calculate the average sales among all items\n",
    "temp_df = complete_df.groupby(['date_block_num']).agg({'item_cnt_month': ['mean']})\n",
    "temp_df.columns = ['avg_monthly_sales']\n",
    "temp_df.reset_index(inplace=True)\n",
    "\n",
    "complete_df = pd.merge(complete_df, temp_df, how='left', on=['date_block_num'])\n",
    "\n",
    "#[3] For each combination of (month, item_id) calculate the average sales among all items of that specific item_id\n",
    "temp_df = complete_df.groupby(['date_block_num','item_id']).agg({'item_cnt_month': ['mean']})\n",
    "temp_df.columns = ['avg_monthly_item_sales']\n",
    "temp_df.reset_index(inplace=True)\n",
    "\n",
    "complete_df = pd.merge(complete_df, temp_df, how='left', on=['date_block_num','item_id'])\n",
    "\n",
    "#[4] For each combination of (month, shop_id) calculate the average sales among all items of that specific shop_id\n",
    "temp_df = complete_df.groupby(['date_block_num','shop_id']).agg({'item_cnt_month': ['mean']})\n",
    "temp_df.columns = ['avg_monthly_shop_sales']\n",
    "temp_df.reset_index(inplace=True)\n",
    "\n",
    "complete_df = pd.merge(complete_df, temp_df, how='left', on=['date_block_num','shop_id'])\n",
    "\n",
    "#[5] For each combination of (month, item_category_id) calculate the average sales among all items of that specific item_category_id\n",
    "temp_df = complete_df.groupby(['date_block_num','item_category_id']).agg({'item_cnt_month': ['mean']})\n",
    "temp_df.columns = ['avg_monthly_cat_sales']\n",
    "temp_df.reset_index(inplace=True)\n",
    "\n",
    "complete_df = pd.merge(complete_df, temp_df, how='left', on=['date_block_num','item_category_id'])\n",
    "\n",
    "#[6] For each combination of (month, type_id) calculate the average sales among all items of that specific type_id\n",
    "temp_df = complete_df.groupby(['date_block_num','type_id']).agg({'item_cnt_month': ['mean']})\n",
    "temp_df.columns = ['avg_monthly_type_sales']\n",
    "temp_df.reset_index(inplace=True)\n",
    "\n",
    "complete_df = pd.merge(complete_df, temp_df, how='left', on=['date_block_num','type_id'])\n",
    "\n",
    "#[7] For each combination of (month, shop_id, item_category_id) calculate the average sales among all items of that combination\n",
    "temp_df = complete_df.groupby(['date_block_num','shop_id','item_category_id']).agg({'item_cnt_month': ['mean']})\n",
    "temp_df.columns = ['avg_monthly_shop_cat_sales']\n",
    "temp_df.reset_index(inplace=True)\n",
    "\n",
    "complete_df = pd.merge(complete_df, temp_df, how='left', on=['date_block_num','shop_id','item_category_id'])\n",
    "\n",
    "#[8] For each combination of (month, shop_id, type_id) calculate the average sales among all items of that combination\n",
    "temp_df = complete_df.groupby(['date_block_num','shop_id','type_id']).agg({'item_cnt_month': ['mean']})\n",
    "temp_df.columns = ['avg_monthly_shop_type_sales']\n",
    "temp_df.reset_index(inplace=True)\n",
    "\n",
    "complete_df = pd.merge(complete_df, temp_df, how='left', on=['date_block_num','shop_id','type_id'])\n",
    "\n",
    "#[9] For each combination of (month, city_id) calculate the average sales among all items of that specific city\n",
    "temp_df = complete_df.groupby(['date_block_num','city_id']).agg({'item_cnt_month': ['mean']})\n",
    "temp_df.columns = ['avg_monthly_city_sales']\n",
    "temp_df.reset_index(inplace=True)\n",
    "\n",
    "complete_df = pd.merge(complete_df, temp_df, how='left', on=['date_block_num','city_id'])\n",
    "\n",
    "#[10] For each combination of (month, item_id, city_id) calculate the average sales among all items of that combination\n",
    "temp_df = complete_df.groupby(['date_block_num','item_id','city_id']).agg({'item_cnt_month': ['mean']})\n",
    "temp_df.columns = ['avg_monthly_item_city_sales']\n",
    "temp_df.reset_index(inplace=True)\n",
    "\n",
    "complete_df = pd.merge(complete_df, temp_df, how='left', on=['date_block_num','item_id','city_id'])\n",
    "\n",
    "#[11] For each combination of (month, item_id) calculate the percent difference of average price from the overall average item_id price\n",
    "temp_df1 = complete_df.groupby(['item_id']).agg({'item_price': ['mean']})\n",
    "temp_df1.columns = ['avg_item_price']\n",
    "temp_df1.reset_index(inplace=True)\n",
    "\n",
    "temp_df2 = complete_df.groupby(['date_block_num','item_id']).agg({'item_price': ['mean']})\n",
    "temp_df2.columns = ['avg_monthly_item_price']\n",
    "temp_df2.reset_index(inplace=True)\n",
    "\n",
    "temp_df3 = pd.merge(temp_df2, temp_df1, how='left', on=['item_id'])\n",
    "temp_df3['monthly_delta_item_price'] = (temp_df3['avg_monthly_item_price'] - temp_df3['avg_item_price']) / temp_df3['avg_item_price']\n",
    "temp_df3 = temp_df3[['date_block_num', 'item_id', 'monthly_delta_item_price']]\n",
    "\n",
    "complete_df = pd.merge(complete_df, temp_df3, how='left', on=['date_block_num','item_id'])\n",
    "\n",
    "#[12] For each combination of (month, shop_id) calculate the percent difference of average revenue from the overall average shop_id revenue\n",
    "temp_df1 = complete_df.groupby(['date_block_num', 'shop_id']).agg({'revenue': ['sum']})\n",
    "temp_df1.columns = ['monthly_shop_revenue']\n",
    "temp_df1.reset_index(inplace=True)\n",
    "\n",
    "temp_df2 = temp_df1.groupby(['shop_id']).agg({'monthly_shop_revenue': ['mean']})\n",
    "temp_df2.columns = ['avg_monthly_shop_revenue']\n",
    "temp_df2.reset_index(inplace=True)\n",
    "\n",
    "temp_df3 = pd.merge(temp_df1, temp_df2, how='left', on=['shop_id'])\n",
    "temp_df3['monthly_delta_shop_revenue'] = (temp_df3['monthly_shop_revenue'] - temp_df3['avg_monthly_shop_revenue']) / temp_df3['avg_monthly_shop_revenue']\n",
    "temp_df3 = temp_df3[['date_block_num', 'shop_id', 'monthly_delta_shop_revenue']]\n",
    "\n",
    "complete_df = pd.merge(complete_df, temp_df3, how='left', on=['date_block_num','shop_id'])"
   ]
  },
  {
   "cell_type": "markdown",
   "id": "01b82bac",
   "metadata": {},
   "source": [
    "### Finalize Data Matrix and Features"
   ]
  },
  {
   "cell_type": "markdown",
   "id": "8a186383",
   "metadata": {},
   "source": [
    "In this section we will finalize the data matrix, creating some lag features (e.g. the feature value for 1 month ago, 2 months ago, etc), and we will drop some columns that will not be used for machine learning model training. This will provide as the final data input for our models."
   ]
  },
  {
   "cell_type": "code",
   "execution_count": 24,
   "id": "ad337d3e",
   "metadata": {},
   "outputs": [],
   "source": [
    "# Drop from complete_df_monthly the columns that are not needed\n",
    "complete_df_monthly_final = complete_df_monthly.drop(['item_name','item_category_name','type_name','shop_name','city_name','month','year',\n",
    "                                     'item_cnt_month_ORIG','revenue_month_ORIG'], axis=1)"
   ]
  },
  {
   "cell_type": "code",
   "execution_count": 25,
   "id": "f222c536",
   "metadata": {},
   "outputs": [],
   "source": [
    "# Misc Functions\n",
    "\n",
    "def update_complete_df_monthly(complete_df, complete_df_monthly_final, col):\n",
    "    temp_df = complete_df[['date_block_num', 'shop_id', 'item_id', col]]\n",
    "    temp_df.drop_duplicates(inplace=True)\n",
    "    complete_df_monthly_final = pd.merge(complete_df_monthly_final,temp_df,how='left',on=['date_block_num','shop_id','item_id'])\n",
    "    return complete_df_monthly_final    \n",
    "\n",
    "def feature_lag(df, lags_list, col):\n",
    "    temp_df = df[['date_block_num', 'shop_id', 'item_id', col]]\n",
    "    for i in lags_list:\n",
    "        shifted_df = temp_df.copy()\n",
    "        shifted_df.columns = ['date_block_num','shop_id','item_id', col+'_lag_'+str(i)]\n",
    "        shifted_df['date_block_num'] += i\n",
    "        df = pd.merge(df, shifted_df, on=['date_block_num', 'shop_id', 'item_id'], how='left')\n",
    "    return df"
   ]
  },
  {
   "cell_type": "code",
   "execution_count": 26,
   "id": "e8342340",
   "metadata": {},
   "outputs": [
    {
     "name": "stderr",
     "output_type": "stream",
     "text": [
      "C:\\Users\\SESA671988\\AppData\\Local\\Temp\\ipykernel_7180\\1799475052.py:5: SettingWithCopyWarning: \n",
      "A value is trying to be set on a copy of a slice from a DataFrame\n",
      "\n",
      "See the caveats in the documentation: https://pandas.pydata.org/pandas-docs/stable/user_guide/indexing.html#returning-a-view-versus-a-copy\n",
      "  temp_df.drop_duplicates(inplace=True)\n",
      "C:\\Users\\SESA671988\\AppData\\Local\\Temp\\ipykernel_7180\\1799475052.py:5: SettingWithCopyWarning: \n",
      "A value is trying to be set on a copy of a slice from a DataFrame\n",
      "\n",
      "See the caveats in the documentation: https://pandas.pydata.org/pandas-docs/stable/user_guide/indexing.html#returning-a-view-versus-a-copy\n",
      "  temp_df.drop_duplicates(inplace=True)\n",
      "C:\\Users\\SESA671988\\AppData\\Local\\Temp\\ipykernel_7180\\1799475052.py:5: SettingWithCopyWarning: \n",
      "A value is trying to be set on a copy of a slice from a DataFrame\n",
      "\n",
      "See the caveats in the documentation: https://pandas.pydata.org/pandas-docs/stable/user_guide/indexing.html#returning-a-view-versus-a-copy\n",
      "  temp_df.drop_duplicates(inplace=True)\n",
      "C:\\Users\\SESA671988\\AppData\\Local\\Temp\\ipykernel_7180\\1799475052.py:5: SettingWithCopyWarning: \n",
      "A value is trying to be set on a copy of a slice from a DataFrame\n",
      "\n",
      "See the caveats in the documentation: https://pandas.pydata.org/pandas-docs/stable/user_guide/indexing.html#returning-a-view-versus-a-copy\n",
      "  temp_df.drop_duplicates(inplace=True)\n",
      "C:\\Users\\SESA671988\\AppData\\Local\\Temp\\ipykernel_7180\\1799475052.py:5: SettingWithCopyWarning: \n",
      "A value is trying to be set on a copy of a slice from a DataFrame\n",
      "\n",
      "See the caveats in the documentation: https://pandas.pydata.org/pandas-docs/stable/user_guide/indexing.html#returning-a-view-versus-a-copy\n",
      "  temp_df.drop_duplicates(inplace=True)\n",
      "C:\\Users\\SESA671988\\AppData\\Local\\Temp\\ipykernel_7180\\1799475052.py:5: SettingWithCopyWarning: \n",
      "A value is trying to be set on a copy of a slice from a DataFrame\n",
      "\n",
      "See the caveats in the documentation: https://pandas.pydata.org/pandas-docs/stable/user_guide/indexing.html#returning-a-view-versus-a-copy\n",
      "  temp_df.drop_duplicates(inplace=True)\n",
      "C:\\Users\\SESA671988\\AppData\\Local\\Temp\\ipykernel_7180\\1799475052.py:5: SettingWithCopyWarning: \n",
      "A value is trying to be set on a copy of a slice from a DataFrame\n",
      "\n",
      "See the caveats in the documentation: https://pandas.pydata.org/pandas-docs/stable/user_guide/indexing.html#returning-a-view-versus-a-copy\n",
      "  temp_df.drop_duplicates(inplace=True)\n",
      "C:\\Users\\SESA671988\\AppData\\Local\\Temp\\ipykernel_7180\\1799475052.py:5: SettingWithCopyWarning: \n",
      "A value is trying to be set on a copy of a slice from a DataFrame\n",
      "\n",
      "See the caveats in the documentation: https://pandas.pydata.org/pandas-docs/stable/user_guide/indexing.html#returning-a-view-versus-a-copy\n",
      "  temp_df.drop_duplicates(inplace=True)\n",
      "C:\\Users\\SESA671988\\AppData\\Local\\Temp\\ipykernel_7180\\1799475052.py:5: SettingWithCopyWarning: \n",
      "A value is trying to be set on a copy of a slice from a DataFrame\n",
      "\n",
      "See the caveats in the documentation: https://pandas.pydata.org/pandas-docs/stable/user_guide/indexing.html#returning-a-view-versus-a-copy\n",
      "  temp_df.drop_duplicates(inplace=True)\n",
      "C:\\Users\\SESA671988\\AppData\\Local\\Temp\\ipykernel_7180\\1799475052.py:5: SettingWithCopyWarning: \n",
      "A value is trying to be set on a copy of a slice from a DataFrame\n",
      "\n",
      "See the caveats in the documentation: https://pandas.pydata.org/pandas-docs/stable/user_guide/indexing.html#returning-a-view-versus-a-copy\n",
      "  temp_df.drop_duplicates(inplace=True)\n",
      "C:\\Users\\SESA671988\\AppData\\Local\\Temp\\ipykernel_7180\\1799475052.py:5: SettingWithCopyWarning: \n",
      "A value is trying to be set on a copy of a slice from a DataFrame\n",
      "\n",
      "See the caveats in the documentation: https://pandas.pydata.org/pandas-docs/stable/user_guide/indexing.html#returning-a-view-versus-a-copy\n",
      "  temp_df.drop_duplicates(inplace=True)\n"
     ]
    }
   ],
   "source": [
    "#1 Create lag features for \"item_cnt_month\"  [1,2,3,6,12 months]\n",
    "complete_df_monthly_final = update_complete_df_monthly(complete_df, complete_df_monthly_final, 'item_cnt_month')\n",
    "complete_df_monthly_final = feature_lag(complete_df_monthly_final, [1,2,3,6,12], 'item_cnt_month')\n",
    "\n",
    "#2 Create lag features for \"avg_monthly_sales\"  [1 months]\n",
    "complete_df_monthly_final = update_complete_df_monthly(complete_df, complete_df_monthly_final, 'avg_monthly_sales')\n",
    "complete_df_monthly_final = feature_lag(complete_df_monthly_final, [1], 'avg_monthly_sales')\n",
    "\n",
    "#3 Create lag features for \"avg_monthly_item_sales\"  [1,2,3,6,12 months]\n",
    "complete_df_monthly_final = update_complete_df_monthly(complete_df, complete_df_monthly_final, 'avg_monthly_item_sales')\n",
    "complete_df_monthly_final = feature_lag(complete_df_monthly_final, [1,2,3,6,12], 'avg_monthly_item_sales')\n",
    "\n",
    "#4 Create lag features for \"avg_monthly_shop_sales\"  [1,2,3,6,12 months]\n",
    "complete_df_monthly_final = update_complete_df_monthly(complete_df, complete_df_monthly_final, 'avg_monthly_shop_sales')\n",
    "complete_df_monthly_final = feature_lag(complete_df_monthly_final, [1,2,3,6,12], 'avg_monthly_shop_sales')\n",
    "\n",
    "#5 Create lag features for \"avg_monthly_cat_sales\"  [1 months]\n",
    "complete_df_monthly_final = update_complete_df_monthly(complete_df, complete_df_monthly_final, 'avg_monthly_cat_sales')\n",
    "complete_df_monthly_final = feature_lag(complete_df_monthly_final, [1], 'avg_monthly_cat_sales')\n",
    "\n",
    "#6 Create lag features for \"avg_monthly_type_sales\"  [1 months]\n",
    "complete_df_monthly_final = update_complete_df_monthly(complete_df, complete_df_monthly_final, 'avg_monthly_type_sales')\n",
    "complete_df_monthly_final = feature_lag(complete_df_monthly_final, [1], 'avg_monthly_type_sales')\n",
    "\n",
    "#7 Create lag features for \"avg_monthly_shop_cat_sales\"  [1 months]\n",
    "complete_df_monthly_final = update_complete_df_monthly(complete_df, complete_df_monthly_final, 'avg_monthly_shop_cat_sales')\n",
    "complete_df_monthly_final = feature_lag(complete_df_monthly_final, [1], 'avg_monthly_shop_cat_sales')\n",
    "\n",
    "#9 Create lag features for \"avg_monthly_city_sales\"  [1 months]\n",
    "complete_df_monthly_final = update_complete_df_monthly(complete_df, complete_df_monthly_final, 'avg_monthly_city_sales')\n",
    "complete_df_monthly_final = feature_lag(complete_df_monthly_final, [1], 'avg_monthly_city_sales')\n",
    "\n",
    "#10 Create lag features for \"avg_monthly_item_city_sales\"  [1 months]\n",
    "complete_df_monthly_final = update_complete_df_monthly(complete_df, complete_df_monthly_final, 'avg_monthly_item_city_sales')\n",
    "complete_df_monthly_final = feature_lag(complete_df_monthly_final, [1], 'avg_monthly_item_city_sales')\n",
    "\n",
    "#11 Create lag features for \"monthly_delta_item_price\"  [1 months]\n",
    "complete_df_monthly_final = update_complete_df_monthly(complete_df, complete_df_monthly_final, 'monthly_delta_item_price')\n",
    "complete_df_monthly_final = feature_lag(complete_df_monthly_final, [1], 'monthly_delta_item_price')\n",
    "\n",
    "#12 Create lag features for \"monthly_delta_shop_revenue\"  [1 months]\n",
    "complete_df_monthly_final = update_complete_df_monthly(complete_df, complete_df_monthly_final, 'monthly_delta_shop_revenue')\n",
    "complete_df_monthly_final = feature_lag(complete_df_monthly_final, [1], 'monthly_delta_shop_revenue')"
   ]
  },
  {
   "cell_type": "code",
   "execution_count": 27,
   "id": "9b492209",
   "metadata": {},
   "outputs": [],
   "source": [
    "# Drop from complete_df_monthly_final the columns that are not needed\n",
    "complete_df_monthly_final = complete_df_monthly_final.drop(['avg_monthly_sales', 'avg_monthly_item_sales', \n",
    "                                'avg_monthly_shop_sales', 'avg_monthly_cat_sales', 'avg_monthly_type_sales',\n",
    "                                'avg_monthly_shop_cat_sales', 'avg_monthly_city_sales', 'avg_monthly_item_city_sales', \n",
    "                                'monthly_delta_item_price', 'monthly_delta_shop_revenue'], axis=1)"
   ]
  },
  {
   "cell_type": "code",
   "execution_count": 28,
   "id": "a4a75745",
   "metadata": {},
   "outputs": [
    {
     "data": {
      "text/html": [
       "<div>\n",
       "<style scoped>\n",
       "    .dataframe tbody tr th:only-of-type {\n",
       "        vertical-align: middle;\n",
       "    }\n",
       "\n",
       "    .dataframe tbody tr th {\n",
       "        vertical-align: top;\n",
       "    }\n",
       "\n",
       "    .dataframe thead th {\n",
       "        text-align: right;\n",
       "    }\n",
       "</style>\n",
       "<table border=\"1\" class=\"dataframe\">\n",
       "  <thead>\n",
       "    <tr style=\"text-align: right;\">\n",
       "      <th></th>\n",
       "      <th>date_block_num</th>\n",
       "      <th>shop_id</th>\n",
       "      <th>item_id</th>\n",
       "      <th>item_category_id</th>\n",
       "      <th>type_id</th>\n",
       "      <th>city_id</th>\n",
       "      <th>item_cnt_month</th>\n",
       "      <th>item_cnt_month_lag_1</th>\n",
       "      <th>item_cnt_month_lag_2</th>\n",
       "      <th>item_cnt_month_lag_3</th>\n",
       "      <th>...</th>\n",
       "      <th>avg_monthly_shop_sales_lag_3</th>\n",
       "      <th>avg_monthly_shop_sales_lag_6</th>\n",
       "      <th>avg_monthly_shop_sales_lag_12</th>\n",
       "      <th>avg_monthly_cat_sales_lag_1</th>\n",
       "      <th>avg_monthly_type_sales_lag_1</th>\n",
       "      <th>avg_monthly_shop_cat_sales_lag_1</th>\n",
       "      <th>avg_monthly_city_sales_lag_1</th>\n",
       "      <th>avg_monthly_item_city_sales_lag_1</th>\n",
       "      <th>monthly_delta_item_price_lag_1</th>\n",
       "      <th>monthly_delta_shop_revenue_lag_1</th>\n",
       "    </tr>\n",
       "  </thead>\n",
       "  <tbody>\n",
       "    <tr>\n",
       "      <th>1609122</th>\n",
       "      <td>33</td>\n",
       "      <td>59</td>\n",
       "      <td>22100</td>\n",
       "      <td>42</td>\n",
       "      <td>12</td>\n",
       "      <td>31</td>\n",
       "      <td>1.0</td>\n",
       "      <td>1.0</td>\n",
       "      <td>NaN</td>\n",
       "      <td>NaN</td>\n",
       "      <td>...</td>\n",
       "      <td>NaN</td>\n",
       "      <td>NaN</td>\n",
       "      <td>NaN</td>\n",
       "      <td>5.939502</td>\n",
       "      <td>4.674242</td>\n",
       "      <td>3.25</td>\n",
       "      <td>3.628535</td>\n",
       "      <td>1.0</td>\n",
       "      <td>-0.004251</td>\n",
       "      <td>-0.175418</td>\n",
       "    </tr>\n",
       "    <tr>\n",
       "      <th>1609123</th>\n",
       "      <td>33</td>\n",
       "      <td>59</td>\n",
       "      <td>22102</td>\n",
       "      <td>42</td>\n",
       "      <td>12</td>\n",
       "      <td>31</td>\n",
       "      <td>1.0</td>\n",
       "      <td>NaN</td>\n",
       "      <td>2.0</td>\n",
       "      <td>NaN</td>\n",
       "      <td>...</td>\n",
       "      <td>NaN</td>\n",
       "      <td>NaN</td>\n",
       "      <td>NaN</td>\n",
       "      <td>NaN</td>\n",
       "      <td>NaN</td>\n",
       "      <td>NaN</td>\n",
       "      <td>NaN</td>\n",
       "      <td>NaN</td>\n",
       "      <td>NaN</td>\n",
       "      <td>NaN</td>\n",
       "    </tr>\n",
       "  </tbody>\n",
       "</table>\n",
       "<p>2 rows × 30 columns</p>\n",
       "</div>"
      ],
      "text/plain": [
       "         date_block_num  shop_id  item_id  item_category_id  type_id  city_id  \\\n",
       "1609122              33       59    22100                42       12       31   \n",
       "1609123              33       59    22102                42       12       31   \n",
       "\n",
       "         item_cnt_month  item_cnt_month_lag_1  item_cnt_month_lag_2  \\\n",
       "1609122             1.0                   1.0                   NaN   \n",
       "1609123             1.0                   NaN                   2.0   \n",
       "\n",
       "         item_cnt_month_lag_3  ...  avg_monthly_shop_sales_lag_3  \\\n",
       "1609122                   NaN  ...                           NaN   \n",
       "1609123                   NaN  ...                           NaN   \n",
       "\n",
       "         avg_monthly_shop_sales_lag_6  avg_monthly_shop_sales_lag_12  \\\n",
       "1609122                           NaN                            NaN   \n",
       "1609123                           NaN                            NaN   \n",
       "\n",
       "         avg_monthly_cat_sales_lag_1  avg_monthly_type_sales_lag_1  \\\n",
       "1609122                     5.939502                      4.674242   \n",
       "1609123                          NaN                           NaN   \n",
       "\n",
       "         avg_monthly_shop_cat_sales_lag_1  avg_monthly_city_sales_lag_1  \\\n",
       "1609122                              3.25                      3.628535   \n",
       "1609123                               NaN                           NaN   \n",
       "\n",
       "         avg_monthly_item_city_sales_lag_1  monthly_delta_item_price_lag_1  \\\n",
       "1609122                                1.0                       -0.004251   \n",
       "1609123                                NaN                             NaN   \n",
       "\n",
       "         monthly_delta_shop_revenue_lag_1  \n",
       "1609122                         -0.175418  \n",
       "1609123                               NaN  \n",
       "\n",
       "[2 rows x 30 columns]"
      ]
     },
     "execution_count": 28,
     "metadata": {},
     "output_type": "execute_result"
    }
   ],
   "source": [
    "complete_df_monthly_final.tail(2)"
   ]
  },
  {
   "cell_type": "code",
   "execution_count": 29,
   "id": "5ae82910",
   "metadata": {},
   "outputs": [
    {
     "data": {
      "text/html": [
       "<div>\n",
       "<style scoped>\n",
       "    .dataframe tbody tr th:only-of-type {\n",
       "        vertical-align: middle;\n",
       "    }\n",
       "\n",
       "    .dataframe tbody tr th {\n",
       "        vertical-align: top;\n",
       "    }\n",
       "\n",
       "    .dataframe thead th {\n",
       "        text-align: right;\n",
       "    }\n",
       "</style>\n",
       "<table border=\"1\" class=\"dataframe\">\n",
       "  <thead>\n",
       "    <tr style=\"text-align: right;\">\n",
       "      <th></th>\n",
       "      <th>date_block_num</th>\n",
       "      <th>shop_id</th>\n",
       "      <th>item_id</th>\n",
       "      <th>item_name</th>\n",
       "      <th>item_category_id</th>\n",
       "      <th>item_category_name</th>\n",
       "      <th>type_name</th>\n",
       "      <th>type_id</th>\n",
       "      <th>shop_name</th>\n",
       "      <th>city_name</th>\n",
       "      <th>city_id</th>\n",
       "      <th>month</th>\n",
       "      <th>year</th>\n",
       "      <th>item_cnt_month_ORIG</th>\n",
       "      <th>revenue_month_ORIG</th>\n",
       "    </tr>\n",
       "  </thead>\n",
       "  <tbody>\n",
       "    <tr>\n",
       "      <th>1609122</th>\n",
       "      <td>33</td>\n",
       "      <td>59</td>\n",
       "      <td>22100</td>\n",
       "      <td>Item 22100</td>\n",
       "      <td>42</td>\n",
       "      <td>Item Category 42</td>\n",
       "      <td>Type 12</td>\n",
       "      <td>12</td>\n",
       "      <td>Shop 59</td>\n",
       "      <td>City 31</td>\n",
       "      <td>31</td>\n",
       "      <td>10</td>\n",
       "      <td>2015</td>\n",
       "      <td>1.0</td>\n",
       "      <td>629.0</td>\n",
       "    </tr>\n",
       "    <tr>\n",
       "      <th>1609123</th>\n",
       "      <td>33</td>\n",
       "      <td>59</td>\n",
       "      <td>22102</td>\n",
       "      <td>Item 22102</td>\n",
       "      <td>42</td>\n",
       "      <td>Item Category 42</td>\n",
       "      <td>Type 12</td>\n",
       "      <td>12</td>\n",
       "      <td>Shop 59</td>\n",
       "      <td>City 31</td>\n",
       "      <td>31</td>\n",
       "      <td>10</td>\n",
       "      <td>2015</td>\n",
       "      <td>1.0</td>\n",
       "      <td>1250.0</td>\n",
       "    </tr>\n",
       "  </tbody>\n",
       "</table>\n",
       "</div>"
      ],
      "text/plain": [
       "         date_block_num  shop_id  item_id   item_name  item_category_id  \\\n",
       "1609122              33       59    22100  Item 22100                42   \n",
       "1609123              33       59    22102  Item 22102                42   \n",
       "\n",
       "        item_category_name type_name  type_id shop_name city_name  city_id  \\\n",
       "1609122   Item Category 42   Type 12       12   Shop 59   City 31       31   \n",
       "1609123   Item Category 42   Type 12       12   Shop 59   City 31       31   \n",
       "\n",
       "         month  year  item_cnt_month_ORIG  revenue_month_ORIG  \n",
       "1609122     10  2015                  1.0               629.0  \n",
       "1609123     10  2015                  1.0              1250.0  "
      ]
     },
     "execution_count": 29,
     "metadata": {},
     "output_type": "execute_result"
    }
   ],
   "source": [
    "complete_df_monthly.tail(2)"
   ]
  },
  {
   "cell_type": "code",
   "execution_count": 30,
   "id": "c9c489c7",
   "metadata": {},
   "outputs": [
    {
     "data": {
      "text/html": [
       "<div>\n",
       "<style scoped>\n",
       "    .dataframe tbody tr th:only-of-type {\n",
       "        vertical-align: middle;\n",
       "    }\n",
       "\n",
       "    .dataframe tbody tr th {\n",
       "        vertical-align: top;\n",
       "    }\n",
       "\n",
       "    .dataframe thead th {\n",
       "        text-align: right;\n",
       "    }\n",
       "</style>\n",
       "<table border=\"1\" class=\"dataframe\">\n",
       "  <thead>\n",
       "    <tr style=\"text-align: right;\">\n",
       "      <th></th>\n",
       "      <th>date</th>\n",
       "      <th>date_block_num</th>\n",
       "      <th>shop_id</th>\n",
       "      <th>item_id</th>\n",
       "      <th>item_price</th>\n",
       "      <th>item_cnt_day</th>\n",
       "      <th>item_name</th>\n",
       "      <th>item_category_id</th>\n",
       "      <th>item_category_name</th>\n",
       "      <th>type_name</th>\n",
       "      <th>...</th>\n",
       "      <th>avg_monthly_item_sales</th>\n",
       "      <th>avg_monthly_shop_sales</th>\n",
       "      <th>avg_monthly_cat_sales</th>\n",
       "      <th>avg_monthly_type_sales</th>\n",
       "      <th>avg_monthly_shop_cat_sales</th>\n",
       "      <th>avg_monthly_shop_type_sales</th>\n",
       "      <th>avg_monthly_city_sales</th>\n",
       "      <th>avg_monthly_item_city_sales</th>\n",
       "      <th>monthly_delta_item_price</th>\n",
       "      <th>monthly_delta_shop_revenue</th>\n",
       "    </tr>\n",
       "  </thead>\n",
       "  <tbody>\n",
       "    <tr>\n",
       "      <th>2935847</th>\n",
       "      <td>2015-10-22</td>\n",
       "      <td>33</td>\n",
       "      <td>25</td>\n",
       "      <td>7440</td>\n",
       "      <td>299.0</td>\n",
       "      <td>1.0</td>\n",
       "      <td>Item 7440</td>\n",
       "      <td>57</td>\n",
       "      <td>Item Category 57</td>\n",
       "      <td>Type 13</td>\n",
       "      <td>...</td>\n",
       "      <td>1.000000</td>\n",
       "      <td>9.918153</td>\n",
       "      <td>1.626703</td>\n",
       "      <td>1.973373</td>\n",
       "      <td>1.491803</td>\n",
       "      <td>3.165205</td>\n",
       "      <td>8.179238</td>\n",
       "      <td>1.000000</td>\n",
       "      <td>0.025194</td>\n",
       "      <td>0.198974</td>\n",
       "    </tr>\n",
       "    <tr>\n",
       "      <th>2935848</th>\n",
       "      <td>2015-10-03</td>\n",
       "      <td>33</td>\n",
       "      <td>25</td>\n",
       "      <td>7460</td>\n",
       "      <td>299.0</td>\n",
       "      <td>1.0</td>\n",
       "      <td>Item 7460</td>\n",
       "      <td>55</td>\n",
       "      <td>Item Category 55</td>\n",
       "      <td>Type 13</td>\n",
       "      <td>...</td>\n",
       "      <td>1.615385</td>\n",
       "      <td>9.918153</td>\n",
       "      <td>2.050009</td>\n",
       "      <td>1.973373</td>\n",
       "      <td>3.852697</td>\n",
       "      <td>3.165205</td>\n",
       "      <td>8.179238</td>\n",
       "      <td>2.142857</td>\n",
       "      <td>0.000342</td>\n",
       "      <td>0.198974</td>\n",
       "    </tr>\n",
       "  </tbody>\n",
       "</table>\n",
       "<p>2 rows × 29 columns</p>\n",
       "</div>"
      ],
      "text/plain": [
       "              date  date_block_num  shop_id  item_id  item_price  \\\n",
       "2935847 2015-10-22              33       25     7440       299.0   \n",
       "2935848 2015-10-03              33       25     7460       299.0   \n",
       "\n",
       "         item_cnt_day  item_name  item_category_id item_category_name  \\\n",
       "2935847           1.0  Item 7440                57   Item Category 57   \n",
       "2935848           1.0  Item 7460                55   Item Category 55   \n",
       "\n",
       "        type_name  ...  avg_monthly_item_sales avg_monthly_shop_sales  \\\n",
       "2935847   Type 13  ...                1.000000               9.918153   \n",
       "2935848   Type 13  ...                1.615385               9.918153   \n",
       "\n",
       "        avg_monthly_cat_sales  avg_monthly_type_sales  \\\n",
       "2935847              1.626703                1.973373   \n",
       "2935848              2.050009                1.973373   \n",
       "\n",
       "         avg_monthly_shop_cat_sales  avg_monthly_shop_type_sales  \\\n",
       "2935847                    1.491803                     3.165205   \n",
       "2935848                    3.852697                     3.165205   \n",
       "\n",
       "         avg_monthly_city_sales  avg_monthly_item_city_sales  \\\n",
       "2935847                8.179238                     1.000000   \n",
       "2935848                8.179238                     2.142857   \n",
       "\n",
       "         monthly_delta_item_price  monthly_delta_shop_revenue  \n",
       "2935847                  0.025194                    0.198974  \n",
       "2935848                  0.000342                    0.198974  \n",
       "\n",
       "[2 rows x 29 columns]"
      ]
     },
     "execution_count": 30,
     "metadata": {},
     "output_type": "execute_result"
    }
   ],
   "source": [
    "complete_df.tail(2)"
   ]
  },
  {
   "cell_type": "code",
   "execution_count": 31,
   "id": "d909878c",
   "metadata": {},
   "outputs": [
    {
     "name": "stdout",
     "output_type": "stream",
     "text": [
      "(1609124, 30) (1609124, 15) (2935849, 29)\n"
     ]
    }
   ],
   "source": [
    "print(complete_df_monthly_final.shape, complete_df_monthly.shape, complete_df.shape)"
   ]
  },
  {
   "cell_type": "code",
   "execution_count": 32,
   "id": "5c18ba60",
   "metadata": {},
   "outputs": [],
   "source": [
    "# Store the processed dataframes into pickle files, so that we do not have to rerun this script\n",
    "\n",
    "complete_df_monthly_final.to_pickle(r'complete_df_monthly_final.pkl')\n",
    "complete_df.to_pickle(r'complete_df.pkl')"
   ]
  }
 ],
 "metadata": {
  "kernelspec": {
   "display_name": "Python 3 (ipykernel)",
   "language": "python",
   "name": "python3"
  },
  "language_info": {
   "codemirror_mode": {
    "name": "ipython",
    "version": 3
   },
   "file_extension": ".py",
   "mimetype": "text/x-python",
   "name": "python",
   "nbconvert_exporter": "python",
   "pygments_lexer": "ipython3",
   "version": "3.10.9"
  }
 },
 "nbformat": 4,
 "nbformat_minor": 5
}
